{
 "cells": [
  {
   "cell_type": "code",
   "execution_count": 1,
   "metadata": {},
   "outputs": [],
   "source": [
    "%matplotlib inline"
   ]
  },
  {
   "cell_type": "code",
   "execution_count": 2,
   "metadata": {},
   "outputs": [],
   "source": [
    "import matplotlib.pyplot as plt\n",
    "from intern.remote.boss import BossRemote\n",
    "import numpy as np\n",
    "import time\n",
    "import pandas as pd"
   ]
  },
  {
   "cell_type": "code",
   "execution_count": 3,
   "metadata": {},
   "outputs": [],
   "source": [
    "boss = BossRemote({\n",
    "    \"protocol\": \"http\",\n",
    "    \"host\": \"localhost:5000\",\n",
    "    \"token\": \"None\"\n",
    "})"
   ]
  },
  {
   "cell_type": "code",
   "execution_count": 4,
   "metadata": {},
   "outputs": [],
   "source": [
    "def generate_random_data(shape):\n",
    "    my_data = np.random.randint(0, 100, shape, dtype=\"uint8\")\n",
    "    for i in range(my_data.shape[0]):\n",
    "        my_data[i] += int(i/4)\n",
    "    for j in range(my_data.shape[2]):\n",
    "        my_data[:,:,j] += int(j/4)\n",
    "    return my_data\n",
    "\n",
    "def run_upload(data):\n",
    "    boss.create_cutout(\n",
    "        boss.get_channel(\"my_channel\", \"my_collection\", \"my_experiment\"),\n",
    "        0, \n",
    "        [0, data.shape[0]], \n",
    "        [0, data.shape[1]], \n",
    "        [0, data.shape[2]], \n",
    "        data\n",
    "    )\n",
    "\n",
    "def run_download(shape):\n",
    "    new_data = boss.get_cutout(\n",
    "        boss.get_channel(\"my_channel\", \"my_collection\", \"my_experiment\"),\n",
    "        0, \n",
    "        [0, shape[0]], \n",
    "        [0, shape[1]], \n",
    "        [0, shape[2]]\n",
    "    )"
   ]
  },
  {
   "cell_type": "code",
   "execution_count": 5,
   "metadata": {},
   "outputs": [],
   "source": [
    "sizes_to_test = [\n",
    "    20,\n",
    "    50,\n",
    "    75,\n",
    "    100,\n",
    "    200,\n",
    "    250,\n",
    "    300,\n",
    "    250,\n",
    "    400,\n",
    "    500,\n",
    "    800,\n",
    "]"
   ]
  },
  {
   "cell_type": "code",
   "execution_count": 9,
   "metadata": {},
   "outputs": [],
   "source": [
    "upload_times = []\n",
    "download_times = []\n",
    "for size in sizes_to_test:\n",
    "    for i in range(3):\n",
    "        shape = (size, size, size)\n",
    "        data = generate_random_data(shape)\n",
    "        tic = time.time()\n",
    "        run_upload(data)\n",
    "        upload_times.append({\n",
    "            \"size\": size,\n",
    "            \"time\": time.time() - tic,\n",
    "            \"attempt\": i\n",
    "        })\n",
    "        tic = time.time()\n",
    "        run_download(shape)\n",
    "        download_times.append({\n",
    "            \"size\": size,\n",
    "            \"time\": time.time() - tic,\n",
    "            \"attempt\": i\n",
    "        })\n",
    "upload_df = pd.DataFrame(upload_times)\n",
    "download_df = pd.DataFrame(download_times)"
   ]
  },
  {
   "cell_type": "code",
   "execution_count": 10,
   "metadata": {},
   "outputs": [
    {
     "data": {
      "image/png": "[encoded data removed]",
      "text/plain": [
       "<Figure size 432x288 with 1 Axes>"
      ]
     },
     "metadata": {},
     "output_type": "display_data"
    },
    {
     "data": {
      "image/png": "[encoded data removed]",
      "text/plain": [
       "<Figure size 432x288 with 1 Axes>"
      ]
     },
     "metadata": {},
     "output_type": "display_data"
    }
   ],
   "source": [
    "plt.title(\"Upload Times\")\n",
    "plt.scatter(upload_df['size'], upload_df.time)\n",
    "plt.ylabel(\"Time (s)\")\n",
    "plt.xlabel(\"Size (edge-length)\")\n",
    "plt.show()\n",
    "\n",
    "\n",
    "plt.title(\"Download Times\")\n",
    "plt.scatter(download_df['size'], download_df.time)\n",
    "plt.ylabel(\"Time (s)\")\n",
    "plt.xlabel(\"Size (edge-length)\")\n",
    "plt.show()"
   ]
  },
  {
   "cell_type": "code",
   "execution_count": null,
   "metadata": {},
   "outputs": [],
   "source": []
  }
 ],
 "metadata": {
  "kernelspec": {
   "display_name": "Python 3",
   "language": "python",
   "name": "python3"
  },
  "language_info": {
   "codemirror_mode": {
    "name": "ipython",
    "version": 3
   },
   "file_extension": ".py",
   "mimetype": "text/x-python",
   "name": "python",
   "nbconvert_exporter": "python",
   "pygments_lexer": "ipython3",
   "version": "3.6.4"
  }
 },
 "nbformat": 4,
 "nbformat_minor": 2
}
